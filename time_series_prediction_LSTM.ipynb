{
  "nbformat": 4,
  "nbformat_minor": 0,
  "metadata": {
    "colab": {
      "provenance": [],
      "gpuType": "T4"
    },
    "kernelspec": {
      "name": "python3",
      "display_name": "Python 3"
    },
    "language_info": {
      "name": "python"
    },
    "accelerator": "GPU"
  },
  "cells": [
    {
      "cell_type": "markdown",
      "source": [
        "Dataset: https://www.kaggle.com/datasets/szrlee/stock-time-series-20050101-to-20171231/data"
      ],
      "metadata": {
        "id": "4OsByIiN-MVB"
      }
    },
    {
      "cell_type": "code",
      "execution_count": 1,
      "metadata": {
        "id": "nI5A0ETs5Wx-"
      },
      "outputs": [],
      "source": [
        "import pandas as pd\n",
        "import numpy as np\n",
        "import tensorflow as tf\n",
        "from sklearn.preprocessing import MinMaxScaler\n",
        "from sklearn.model_selection import train_test_split\n",
        "from keras.models import Sequential\n",
        "from keras.layers import Dense, LSTM, Dropout, Bidirectional\n",
        "from keras.optimizers import SGD\n",
        "import matplotlib.pyplot as plt\n",
        "import seaborn as sns"
      ]
    },
    {
      "cell_type": "code",
      "source": [
        "df = pd.read_csv('/content/drive/MyDrive/proyek machine learning/proyek time series prediction(LSTM)/GOOGL_2006-01-01_to_2018-01-01.csv')\n",
        "df"
      ],
      "metadata": {
        "colab": {
          "base_uri": "https://localhost:8080/",
          "height": 424
        },
        "id": "iGiQYlpoC3qO",
        "outputId": "5d59525f-7e61-4018-a08d-95c4e9772085"
      },
      "execution_count": 2,
      "outputs": [
        {
          "output_type": "execute_result",
          "data": {
            "text/plain": [
              "            Date     Open     High      Low    Close    Volume   Name\n",
              "0     2006-01-03   211.47   218.05   209.32   217.83  13137450  GOOGL\n",
              "1     2006-01-04   222.17   224.70   220.09   222.84  15292353  GOOGL\n",
              "2     2006-01-05   223.22   226.00   220.97   225.85  10815661  GOOGL\n",
              "3     2006-01-06   228.66   235.49   226.85   233.06  17759521  GOOGL\n",
              "4     2006-01-09   233.44   236.94   230.70   233.68  12795837  GOOGL\n",
              "...          ...      ...      ...      ...      ...       ...    ...\n",
              "3014  2017-12-22  1070.00  1071.72  1067.64  1068.86    889446  GOOGL\n",
              "3015  2017-12-26  1068.64  1068.86  1058.64  1065.85    918767  GOOGL\n",
              "3016  2017-12-27  1066.60  1068.27  1058.38  1060.20   1116203  GOOGL\n",
              "3017  2017-12-28  1062.25  1064.84  1053.38  1055.95    994249  GOOGL\n",
              "3018  2017-12-29  1055.49  1058.05  1052.70  1053.40   1180340  GOOGL\n",
              "\n",
              "[3019 rows x 7 columns]"
            ],
            "text/html": [
              "\n",
              "  <div id=\"df-bae3bb5b-31c1-4d20-b172-f61b50a1509e\" class=\"colab-df-container\">\n",
              "    <div>\n",
              "<style scoped>\n",
              "    .dataframe tbody tr th:only-of-type {\n",
              "        vertical-align: middle;\n",
              "    }\n",
              "\n",
              "    .dataframe tbody tr th {\n",
              "        vertical-align: top;\n",
              "    }\n",
              "\n",
              "    .dataframe thead th {\n",
              "        text-align: right;\n",
              "    }\n",
              "</style>\n",
              "<table border=\"1\" class=\"dataframe\">\n",
              "  <thead>\n",
              "    <tr style=\"text-align: right;\">\n",
              "      <th></th>\n",
              "      <th>Date</th>\n",
              "      <th>Open</th>\n",
              "      <th>High</th>\n",
              "      <th>Low</th>\n",
              "      <th>Close</th>\n",
              "      <th>Volume</th>\n",
              "      <th>Name</th>\n",
              "    </tr>\n",
              "  </thead>\n",
              "  <tbody>\n",
              "    <tr>\n",
              "      <th>0</th>\n",
              "      <td>2006-01-03</td>\n",
              "      <td>211.47</td>\n",
              "      <td>218.05</td>\n",
              "      <td>209.32</td>\n",
              "      <td>217.83</td>\n",
              "      <td>13137450</td>\n",
              "      <td>GOOGL</td>\n",
              "    </tr>\n",
              "    <tr>\n",
              "      <th>1</th>\n",
              "      <td>2006-01-04</td>\n",
              "      <td>222.17</td>\n",
              "      <td>224.70</td>\n",
              "      <td>220.09</td>\n",
              "      <td>222.84</td>\n",
              "      <td>15292353</td>\n",
              "      <td>GOOGL</td>\n",
              "    </tr>\n",
              "    <tr>\n",
              "      <th>2</th>\n",
              "      <td>2006-01-05</td>\n",
              "      <td>223.22</td>\n",
              "      <td>226.00</td>\n",
              "      <td>220.97</td>\n",
              "      <td>225.85</td>\n",
              "      <td>10815661</td>\n",
              "      <td>GOOGL</td>\n",
              "    </tr>\n",
              "    <tr>\n",
              "      <th>3</th>\n",
              "      <td>2006-01-06</td>\n",
              "      <td>228.66</td>\n",
              "      <td>235.49</td>\n",
              "      <td>226.85</td>\n",
              "      <td>233.06</td>\n",
              "      <td>17759521</td>\n",
              "      <td>GOOGL</td>\n",
              "    </tr>\n",
              "    <tr>\n",
              "      <th>4</th>\n",
              "      <td>2006-01-09</td>\n",
              "      <td>233.44</td>\n",
              "      <td>236.94</td>\n",
              "      <td>230.70</td>\n",
              "      <td>233.68</td>\n",
              "      <td>12795837</td>\n",
              "      <td>GOOGL</td>\n",
              "    </tr>\n",
              "    <tr>\n",
              "      <th>...</th>\n",
              "      <td>...</td>\n",
              "      <td>...</td>\n",
              "      <td>...</td>\n",
              "      <td>...</td>\n",
              "      <td>...</td>\n",
              "      <td>...</td>\n",
              "      <td>...</td>\n",
              "    </tr>\n",
              "    <tr>\n",
              "      <th>3014</th>\n",
              "      <td>2017-12-22</td>\n",
              "      <td>1070.00</td>\n",
              "      <td>1071.72</td>\n",
              "      <td>1067.64</td>\n",
              "      <td>1068.86</td>\n",
              "      <td>889446</td>\n",
              "      <td>GOOGL</td>\n",
              "    </tr>\n",
              "    <tr>\n",
              "      <th>3015</th>\n",
              "      <td>2017-12-26</td>\n",
              "      <td>1068.64</td>\n",
              "      <td>1068.86</td>\n",
              "      <td>1058.64</td>\n",
              "      <td>1065.85</td>\n",
              "      <td>918767</td>\n",
              "      <td>GOOGL</td>\n",
              "    </tr>\n",
              "    <tr>\n",
              "      <th>3016</th>\n",
              "      <td>2017-12-27</td>\n",
              "      <td>1066.60</td>\n",
              "      <td>1068.27</td>\n",
              "      <td>1058.38</td>\n",
              "      <td>1060.20</td>\n",
              "      <td>1116203</td>\n",
              "      <td>GOOGL</td>\n",
              "    </tr>\n",
              "    <tr>\n",
              "      <th>3017</th>\n",
              "      <td>2017-12-28</td>\n",
              "      <td>1062.25</td>\n",
              "      <td>1064.84</td>\n",
              "      <td>1053.38</td>\n",
              "      <td>1055.95</td>\n",
              "      <td>994249</td>\n",
              "      <td>GOOGL</td>\n",
              "    </tr>\n",
              "    <tr>\n",
              "      <th>3018</th>\n",
              "      <td>2017-12-29</td>\n",
              "      <td>1055.49</td>\n",
              "      <td>1058.05</td>\n",
              "      <td>1052.70</td>\n",
              "      <td>1053.40</td>\n",
              "      <td>1180340</td>\n",
              "      <td>GOOGL</td>\n",
              "    </tr>\n",
              "  </tbody>\n",
              "</table>\n",
              "<p>3019 rows × 7 columns</p>\n",
              "</div>\n",
              "    <div class=\"colab-df-buttons\">\n",
              "\n",
              "  <div class=\"colab-df-container\">\n",
              "    <button class=\"colab-df-convert\" onclick=\"convertToInteractive('df-bae3bb5b-31c1-4d20-b172-f61b50a1509e')\"\n",
              "            title=\"Convert this dataframe to an interactive table.\"\n",
              "            style=\"display:none;\">\n",
              "\n",
              "  <svg xmlns=\"http://www.w3.org/2000/svg\" height=\"24px\" viewBox=\"0 -960 960 960\">\n",
              "    <path d=\"M120-120v-720h720v720H120Zm60-500h600v-160H180v160Zm220 220h160v-160H400v160Zm0 220h160v-160H400v160ZM180-400h160v-160H180v160Zm440 0h160v-160H620v160ZM180-180h160v-160H180v160Zm440 0h160v-160H620v160Z\"/>\n",
              "  </svg>\n",
              "    </button>\n",
              "\n",
              "  <style>\n",
              "    .colab-df-container {\n",
              "      display:flex;\n",
              "      gap: 12px;\n",
              "    }\n",
              "\n",
              "    .colab-df-convert {\n",
              "      background-color: #E8F0FE;\n",
              "      border: none;\n",
              "      border-radius: 50%;\n",
              "      cursor: pointer;\n",
              "      display: none;\n",
              "      fill: #1967D2;\n",
              "      height: 32px;\n",
              "      padding: 0 0 0 0;\n",
              "      width: 32px;\n",
              "    }\n",
              "\n",
              "    .colab-df-convert:hover {\n",
              "      background-color: #E2EBFA;\n",
              "      box-shadow: 0px 1px 2px rgba(60, 64, 67, 0.3), 0px 1px 3px 1px rgba(60, 64, 67, 0.15);\n",
              "      fill: #174EA6;\n",
              "    }\n",
              "\n",
              "    .colab-df-buttons div {\n",
              "      margin-bottom: 4px;\n",
              "    }\n",
              "\n",
              "    [theme=dark] .colab-df-convert {\n",
              "      background-color: #3B4455;\n",
              "      fill: #D2E3FC;\n",
              "    }\n",
              "\n",
              "    [theme=dark] .colab-df-convert:hover {\n",
              "      background-color: #434B5C;\n",
              "      box-shadow: 0px 1px 3px 1px rgba(0, 0, 0, 0.15);\n",
              "      filter: drop-shadow(0px 1px 2px rgba(0, 0, 0, 0.3));\n",
              "      fill: #FFFFFF;\n",
              "    }\n",
              "  </style>\n",
              "\n",
              "    <script>\n",
              "      const buttonEl =\n",
              "        document.querySelector('#df-bae3bb5b-31c1-4d20-b172-f61b50a1509e button.colab-df-convert');\n",
              "      buttonEl.style.display =\n",
              "        google.colab.kernel.accessAllowed ? 'block' : 'none';\n",
              "\n",
              "      async function convertToInteractive(key) {\n",
              "        const element = document.querySelector('#df-bae3bb5b-31c1-4d20-b172-f61b50a1509e');\n",
              "        const dataTable =\n",
              "          await google.colab.kernel.invokeFunction('convertToInteractive',\n",
              "                                                    [key], {});\n",
              "        if (!dataTable) return;\n",
              "\n",
              "        const docLinkHtml = 'Like what you see? Visit the ' +\n",
              "          '<a target=\"_blank\" href=https://colab.research.google.com/notebooks/data_table.ipynb>data table notebook</a>'\n",
              "          + ' to learn more about interactive tables.';\n",
              "        element.innerHTML = '';\n",
              "        dataTable['output_type'] = 'display_data';\n",
              "        await google.colab.output.renderOutput(dataTable, element);\n",
              "        const docLink = document.createElement('div');\n",
              "        docLink.innerHTML = docLinkHtml;\n",
              "        element.appendChild(docLink);\n",
              "      }\n",
              "    </script>\n",
              "  </div>\n",
              "\n",
              "\n",
              "<div id=\"df-de8a4257-9328-4ad4-a29f-16109b59ba1e\">\n",
              "  <button class=\"colab-df-quickchart\" onclick=\"quickchart('df-de8a4257-9328-4ad4-a29f-16109b59ba1e')\"\n",
              "            title=\"Suggest charts\"\n",
              "            style=\"display:none;\">\n",
              "\n",
              "<svg xmlns=\"http://www.w3.org/2000/svg\" height=\"24px\"viewBox=\"0 0 24 24\"\n",
              "     width=\"24px\">\n",
              "    <g>\n",
              "        <path d=\"M19 3H5c-1.1 0-2 .9-2 2v14c0 1.1.9 2 2 2h14c1.1 0 2-.9 2-2V5c0-1.1-.9-2-2-2zM9 17H7v-7h2v7zm4 0h-2V7h2v10zm4 0h-2v-4h2v4z\"/>\n",
              "    </g>\n",
              "</svg>\n",
              "  </button>\n",
              "\n",
              "<style>\n",
              "  .colab-df-quickchart {\n",
              "      --bg-color: #E8F0FE;\n",
              "      --fill-color: #1967D2;\n",
              "      --hover-bg-color: #E2EBFA;\n",
              "      --hover-fill-color: #174EA6;\n",
              "      --disabled-fill-color: #AAA;\n",
              "      --disabled-bg-color: #DDD;\n",
              "  }\n",
              "\n",
              "  [theme=dark] .colab-df-quickchart {\n",
              "      --bg-color: #3B4455;\n",
              "      --fill-color: #D2E3FC;\n",
              "      --hover-bg-color: #434B5C;\n",
              "      --hover-fill-color: #FFFFFF;\n",
              "      --disabled-bg-color: #3B4455;\n",
              "      --disabled-fill-color: #666;\n",
              "  }\n",
              "\n",
              "  .colab-df-quickchart {\n",
              "    background-color: var(--bg-color);\n",
              "    border: none;\n",
              "    border-radius: 50%;\n",
              "    cursor: pointer;\n",
              "    display: none;\n",
              "    fill: var(--fill-color);\n",
              "    height: 32px;\n",
              "    padding: 0;\n",
              "    width: 32px;\n",
              "  }\n",
              "\n",
              "  .colab-df-quickchart:hover {\n",
              "    background-color: var(--hover-bg-color);\n",
              "    box-shadow: 0 1px 2px rgba(60, 64, 67, 0.3), 0 1px 3px 1px rgba(60, 64, 67, 0.15);\n",
              "    fill: var(--button-hover-fill-color);\n",
              "  }\n",
              "\n",
              "  .colab-df-quickchart-complete:disabled,\n",
              "  .colab-df-quickchart-complete:disabled:hover {\n",
              "    background-color: var(--disabled-bg-color);\n",
              "    fill: var(--disabled-fill-color);\n",
              "    box-shadow: none;\n",
              "  }\n",
              "\n",
              "  .colab-df-spinner {\n",
              "    border: 2px solid var(--fill-color);\n",
              "    border-color: transparent;\n",
              "    border-bottom-color: var(--fill-color);\n",
              "    animation:\n",
              "      spin 1s steps(1) infinite;\n",
              "  }\n",
              "\n",
              "  @keyframes spin {\n",
              "    0% {\n",
              "      border-color: transparent;\n",
              "      border-bottom-color: var(--fill-color);\n",
              "      border-left-color: var(--fill-color);\n",
              "    }\n",
              "    20% {\n",
              "      border-color: transparent;\n",
              "      border-left-color: var(--fill-color);\n",
              "      border-top-color: var(--fill-color);\n",
              "    }\n",
              "    30% {\n",
              "      border-color: transparent;\n",
              "      border-left-color: var(--fill-color);\n",
              "      border-top-color: var(--fill-color);\n",
              "      border-right-color: var(--fill-color);\n",
              "    }\n",
              "    40% {\n",
              "      border-color: transparent;\n",
              "      border-right-color: var(--fill-color);\n",
              "      border-top-color: var(--fill-color);\n",
              "    }\n",
              "    60% {\n",
              "      border-color: transparent;\n",
              "      border-right-color: var(--fill-color);\n",
              "    }\n",
              "    80% {\n",
              "      border-color: transparent;\n",
              "      border-right-color: var(--fill-color);\n",
              "      border-bottom-color: var(--fill-color);\n",
              "    }\n",
              "    90% {\n",
              "      border-color: transparent;\n",
              "      border-bottom-color: var(--fill-color);\n",
              "    }\n",
              "  }\n",
              "</style>\n",
              "\n",
              "  <script>\n",
              "    async function quickchart(key) {\n",
              "      const quickchartButtonEl =\n",
              "        document.querySelector('#' + key + ' button');\n",
              "      quickchartButtonEl.disabled = true;  // To prevent multiple clicks.\n",
              "      quickchartButtonEl.classList.add('colab-df-spinner');\n",
              "      try {\n",
              "        const charts = await google.colab.kernel.invokeFunction(\n",
              "            'suggestCharts', [key], {});\n",
              "      } catch (error) {\n",
              "        console.error('Error during call to suggestCharts:', error);\n",
              "      }\n",
              "      quickchartButtonEl.classList.remove('colab-df-spinner');\n",
              "      quickchartButtonEl.classList.add('colab-df-quickchart-complete');\n",
              "    }\n",
              "    (() => {\n",
              "      let quickchartButtonEl =\n",
              "        document.querySelector('#df-de8a4257-9328-4ad4-a29f-16109b59ba1e button');\n",
              "      quickchartButtonEl.style.display =\n",
              "        google.colab.kernel.accessAllowed ? 'block' : 'none';\n",
              "    })();\n",
              "  </script>\n",
              "</div>\n",
              "    </div>\n",
              "  </div>\n"
            ]
          },
          "metadata": {},
          "execution_count": 2
        }
      ]
    },
    {
      "cell_type": "code",
      "source": [
        "df.head(10)"
      ],
      "metadata": {
        "colab": {
          "base_uri": "https://localhost:8080/",
          "height": 363
        },
        "id": "b41kbHIRiYFy",
        "outputId": "5acc7273-8bf8-4213-f8b1-9ba7731d17ff"
      },
      "execution_count": 3,
      "outputs": [
        {
          "output_type": "execute_result",
          "data": {
            "text/plain": [
              "         Date    Open    High     Low   Close    Volume   Name\n",
              "0  2006-01-03  211.47  218.05  209.32  217.83  13137450  GOOGL\n",
              "1  2006-01-04  222.17  224.70  220.09  222.84  15292353  GOOGL\n",
              "2  2006-01-05  223.22  226.00  220.97  225.85  10815661  GOOGL\n",
              "3  2006-01-06  228.66  235.49  226.85  233.06  17759521  GOOGL\n",
              "4  2006-01-09  233.44  236.94  230.70  233.68  12795837  GOOGL\n",
              "5  2006-01-10  232.44  235.36  231.25  235.11   9104719  GOOGL\n",
              "6  2006-01-11  235.87  237.79  234.82  236.05   9008664  GOOGL\n",
              "7  2006-01-12  237.10  237.73  230.98  232.05  10125212  GOOGL\n",
              "8  2006-01-13  232.39  233.68  231.04  233.36   7660220  GOOGL\n",
              "9  2006-01-17  231.76  235.18  231.50  233.79   8335300  GOOGL"
            ],
            "text/html": [
              "\n",
              "  <div id=\"df-d50cfaa1-1919-4b68-9909-bc3dec307068\" class=\"colab-df-container\">\n",
              "    <div>\n",
              "<style scoped>\n",
              "    .dataframe tbody tr th:only-of-type {\n",
              "        vertical-align: middle;\n",
              "    }\n",
              "\n",
              "    .dataframe tbody tr th {\n",
              "        vertical-align: top;\n",
              "    }\n",
              "\n",
              "    .dataframe thead th {\n",
              "        text-align: right;\n",
              "    }\n",
              "</style>\n",
              "<table border=\"1\" class=\"dataframe\">\n",
              "  <thead>\n",
              "    <tr style=\"text-align: right;\">\n",
              "      <th></th>\n",
              "      <th>Date</th>\n",
              "      <th>Open</th>\n",
              "      <th>High</th>\n",
              "      <th>Low</th>\n",
              "      <th>Close</th>\n",
              "      <th>Volume</th>\n",
              "      <th>Name</th>\n",
              "    </tr>\n",
              "  </thead>\n",
              "  <tbody>\n",
              "    <tr>\n",
              "      <th>0</th>\n",
              "      <td>2006-01-03</td>\n",
              "      <td>211.47</td>\n",
              "      <td>218.05</td>\n",
              "      <td>209.32</td>\n",
              "      <td>217.83</td>\n",
              "      <td>13137450</td>\n",
              "      <td>GOOGL</td>\n",
              "    </tr>\n",
              "    <tr>\n",
              "      <th>1</th>\n",
              "      <td>2006-01-04</td>\n",
              "      <td>222.17</td>\n",
              "      <td>224.70</td>\n",
              "      <td>220.09</td>\n",
              "      <td>222.84</td>\n",
              "      <td>15292353</td>\n",
              "      <td>GOOGL</td>\n",
              "    </tr>\n",
              "    <tr>\n",
              "      <th>2</th>\n",
              "      <td>2006-01-05</td>\n",
              "      <td>223.22</td>\n",
              "      <td>226.00</td>\n",
              "      <td>220.97</td>\n",
              "      <td>225.85</td>\n",
              "      <td>10815661</td>\n",
              "      <td>GOOGL</td>\n",
              "    </tr>\n",
              "    <tr>\n",
              "      <th>3</th>\n",
              "      <td>2006-01-06</td>\n",
              "      <td>228.66</td>\n",
              "      <td>235.49</td>\n",
              "      <td>226.85</td>\n",
              "      <td>233.06</td>\n",
              "      <td>17759521</td>\n",
              "      <td>GOOGL</td>\n",
              "    </tr>\n",
              "    <tr>\n",
              "      <th>4</th>\n",
              "      <td>2006-01-09</td>\n",
              "      <td>233.44</td>\n",
              "      <td>236.94</td>\n",
              "      <td>230.70</td>\n",
              "      <td>233.68</td>\n",
              "      <td>12795837</td>\n",
              "      <td>GOOGL</td>\n",
              "    </tr>\n",
              "    <tr>\n",
              "      <th>5</th>\n",
              "      <td>2006-01-10</td>\n",
              "      <td>232.44</td>\n",
              "      <td>235.36</td>\n",
              "      <td>231.25</td>\n",
              "      <td>235.11</td>\n",
              "      <td>9104719</td>\n",
              "      <td>GOOGL</td>\n",
              "    </tr>\n",
              "    <tr>\n",
              "      <th>6</th>\n",
              "      <td>2006-01-11</td>\n",
              "      <td>235.87</td>\n",
              "      <td>237.79</td>\n",
              "      <td>234.82</td>\n",
              "      <td>236.05</td>\n",
              "      <td>9008664</td>\n",
              "      <td>GOOGL</td>\n",
              "    </tr>\n",
              "    <tr>\n",
              "      <th>7</th>\n",
              "      <td>2006-01-12</td>\n",
              "      <td>237.10</td>\n",
              "      <td>237.73</td>\n",
              "      <td>230.98</td>\n",
              "      <td>232.05</td>\n",
              "      <td>10125212</td>\n",
              "      <td>GOOGL</td>\n",
              "    </tr>\n",
              "    <tr>\n",
              "      <th>8</th>\n",
              "      <td>2006-01-13</td>\n",
              "      <td>232.39</td>\n",
              "      <td>233.68</td>\n",
              "      <td>231.04</td>\n",
              "      <td>233.36</td>\n",
              "      <td>7660220</td>\n",
              "      <td>GOOGL</td>\n",
              "    </tr>\n",
              "    <tr>\n",
              "      <th>9</th>\n",
              "      <td>2006-01-17</td>\n",
              "      <td>231.76</td>\n",
              "      <td>235.18</td>\n",
              "      <td>231.50</td>\n",
              "      <td>233.79</td>\n",
              "      <td>8335300</td>\n",
              "      <td>GOOGL</td>\n",
              "    </tr>\n",
              "  </tbody>\n",
              "</table>\n",
              "</div>\n",
              "    <div class=\"colab-df-buttons\">\n",
              "\n",
              "  <div class=\"colab-df-container\">\n",
              "    <button class=\"colab-df-convert\" onclick=\"convertToInteractive('df-d50cfaa1-1919-4b68-9909-bc3dec307068')\"\n",
              "            title=\"Convert this dataframe to an interactive table.\"\n",
              "            style=\"display:none;\">\n",
              "\n",
              "  <svg xmlns=\"http://www.w3.org/2000/svg\" height=\"24px\" viewBox=\"0 -960 960 960\">\n",
              "    <path d=\"M120-120v-720h720v720H120Zm60-500h600v-160H180v160Zm220 220h160v-160H400v160Zm0 220h160v-160H400v160ZM180-400h160v-160H180v160Zm440 0h160v-160H620v160ZM180-180h160v-160H180v160Zm440 0h160v-160H620v160Z\"/>\n",
              "  </svg>\n",
              "    </button>\n",
              "\n",
              "  <style>\n",
              "    .colab-df-container {\n",
              "      display:flex;\n",
              "      gap: 12px;\n",
              "    }\n",
              "\n",
              "    .colab-df-convert {\n",
              "      background-color: #E8F0FE;\n",
              "      border: none;\n",
              "      border-radius: 50%;\n",
              "      cursor: pointer;\n",
              "      display: none;\n",
              "      fill: #1967D2;\n",
              "      height: 32px;\n",
              "      padding: 0 0 0 0;\n",
              "      width: 32px;\n",
              "    }\n",
              "\n",
              "    .colab-df-convert:hover {\n",
              "      background-color: #E2EBFA;\n",
              "      box-shadow: 0px 1px 2px rgba(60, 64, 67, 0.3), 0px 1px 3px 1px rgba(60, 64, 67, 0.15);\n",
              "      fill: #174EA6;\n",
              "    }\n",
              "\n",
              "    .colab-df-buttons div {\n",
              "      margin-bottom: 4px;\n",
              "    }\n",
              "\n",
              "    [theme=dark] .colab-df-convert {\n",
              "      background-color: #3B4455;\n",
              "      fill: #D2E3FC;\n",
              "    }\n",
              "\n",
              "    [theme=dark] .colab-df-convert:hover {\n",
              "      background-color: #434B5C;\n",
              "      box-shadow: 0px 1px 3px 1px rgba(0, 0, 0, 0.15);\n",
              "      filter: drop-shadow(0px 1px 2px rgba(0, 0, 0, 0.3));\n",
              "      fill: #FFFFFF;\n",
              "    }\n",
              "  </style>\n",
              "\n",
              "    <script>\n",
              "      const buttonEl =\n",
              "        document.querySelector('#df-d50cfaa1-1919-4b68-9909-bc3dec307068 button.colab-df-convert');\n",
              "      buttonEl.style.display =\n",
              "        google.colab.kernel.accessAllowed ? 'block' : 'none';\n",
              "\n",
              "      async function convertToInteractive(key) {\n",
              "        const element = document.querySelector('#df-d50cfaa1-1919-4b68-9909-bc3dec307068');\n",
              "        const dataTable =\n",
              "          await google.colab.kernel.invokeFunction('convertToInteractive',\n",
              "                                                    [key], {});\n",
              "        if (!dataTable) return;\n",
              "\n",
              "        const docLinkHtml = 'Like what you see? Visit the ' +\n",
              "          '<a target=\"_blank\" href=https://colab.research.google.com/notebooks/data_table.ipynb>data table notebook</a>'\n",
              "          + ' to learn more about interactive tables.';\n",
              "        element.innerHTML = '';\n",
              "        dataTable['output_type'] = 'display_data';\n",
              "        await google.colab.output.renderOutput(dataTable, element);\n",
              "        const docLink = document.createElement('div');\n",
              "        docLink.innerHTML = docLinkHtml;\n",
              "        element.appendChild(docLink);\n",
              "      }\n",
              "    </script>\n",
              "  </div>\n",
              "\n",
              "\n",
              "<div id=\"df-bc016d50-50dd-42ea-8288-5184b8c20e47\">\n",
              "  <button class=\"colab-df-quickchart\" onclick=\"quickchart('df-bc016d50-50dd-42ea-8288-5184b8c20e47')\"\n",
              "            title=\"Suggest charts\"\n",
              "            style=\"display:none;\">\n",
              "\n",
              "<svg xmlns=\"http://www.w3.org/2000/svg\" height=\"24px\"viewBox=\"0 0 24 24\"\n",
              "     width=\"24px\">\n",
              "    <g>\n",
              "        <path d=\"M19 3H5c-1.1 0-2 .9-2 2v14c0 1.1.9 2 2 2h14c1.1 0 2-.9 2-2V5c0-1.1-.9-2-2-2zM9 17H7v-7h2v7zm4 0h-2V7h2v10zm4 0h-2v-4h2v4z\"/>\n",
              "    </g>\n",
              "</svg>\n",
              "  </button>\n",
              "\n",
              "<style>\n",
              "  .colab-df-quickchart {\n",
              "      --bg-color: #E8F0FE;\n",
              "      --fill-color: #1967D2;\n",
              "      --hover-bg-color: #E2EBFA;\n",
              "      --hover-fill-color: #174EA6;\n",
              "      --disabled-fill-color: #AAA;\n",
              "      --disabled-bg-color: #DDD;\n",
              "  }\n",
              "\n",
              "  [theme=dark] .colab-df-quickchart {\n",
              "      --bg-color: #3B4455;\n",
              "      --fill-color: #D2E3FC;\n",
              "      --hover-bg-color: #434B5C;\n",
              "      --hover-fill-color: #FFFFFF;\n",
              "      --disabled-bg-color: #3B4455;\n",
              "      --disabled-fill-color: #666;\n",
              "  }\n",
              "\n",
              "  .colab-df-quickchart {\n",
              "    background-color: var(--bg-color);\n",
              "    border: none;\n",
              "    border-radius: 50%;\n",
              "    cursor: pointer;\n",
              "    display: none;\n",
              "    fill: var(--fill-color);\n",
              "    height: 32px;\n",
              "    padding: 0;\n",
              "    width: 32px;\n",
              "  }\n",
              "\n",
              "  .colab-df-quickchart:hover {\n",
              "    background-color: var(--hover-bg-color);\n",
              "    box-shadow: 0 1px 2px rgba(60, 64, 67, 0.3), 0 1px 3px 1px rgba(60, 64, 67, 0.15);\n",
              "    fill: var(--button-hover-fill-color);\n",
              "  }\n",
              "\n",
              "  .colab-df-quickchart-complete:disabled,\n",
              "  .colab-df-quickchart-complete:disabled:hover {\n",
              "    background-color: var(--disabled-bg-color);\n",
              "    fill: var(--disabled-fill-color);\n",
              "    box-shadow: none;\n",
              "  }\n",
              "\n",
              "  .colab-df-spinner {\n",
              "    border: 2px solid var(--fill-color);\n",
              "    border-color: transparent;\n",
              "    border-bottom-color: var(--fill-color);\n",
              "    animation:\n",
              "      spin 1s steps(1) infinite;\n",
              "  }\n",
              "\n",
              "  @keyframes spin {\n",
              "    0% {\n",
              "      border-color: transparent;\n",
              "      border-bottom-color: var(--fill-color);\n",
              "      border-left-color: var(--fill-color);\n",
              "    }\n",
              "    20% {\n",
              "      border-color: transparent;\n",
              "      border-left-color: var(--fill-color);\n",
              "      border-top-color: var(--fill-color);\n",
              "    }\n",
              "    30% {\n",
              "      border-color: transparent;\n",
              "      border-left-color: var(--fill-color);\n",
              "      border-top-color: var(--fill-color);\n",
              "      border-right-color: var(--fill-color);\n",
              "    }\n",
              "    40% {\n",
              "      border-color: transparent;\n",
              "      border-right-color: var(--fill-color);\n",
              "      border-top-color: var(--fill-color);\n",
              "    }\n",
              "    60% {\n",
              "      border-color: transparent;\n",
              "      border-right-color: var(--fill-color);\n",
              "    }\n",
              "    80% {\n",
              "      border-color: transparent;\n",
              "      border-right-color: var(--fill-color);\n",
              "      border-bottom-color: var(--fill-color);\n",
              "    }\n",
              "    90% {\n",
              "      border-color: transparent;\n",
              "      border-bottom-color: var(--fill-color);\n",
              "    }\n",
              "  }\n",
              "</style>\n",
              "\n",
              "  <script>\n",
              "    async function quickchart(key) {\n",
              "      const quickchartButtonEl =\n",
              "        document.querySelector('#' + key + ' button');\n",
              "      quickchartButtonEl.disabled = true;  // To prevent multiple clicks.\n",
              "      quickchartButtonEl.classList.add('colab-df-spinner');\n",
              "      try {\n",
              "        const charts = await google.colab.kernel.invokeFunction(\n",
              "            'suggestCharts', [key], {});\n",
              "      } catch (error) {\n",
              "        console.error('Error during call to suggestCharts:', error);\n",
              "      }\n",
              "      quickchartButtonEl.classList.remove('colab-df-spinner');\n",
              "      quickchartButtonEl.classList.add('colab-df-quickchart-complete');\n",
              "    }\n",
              "    (() => {\n",
              "      let quickchartButtonEl =\n",
              "        document.querySelector('#df-bc016d50-50dd-42ea-8288-5184b8c20e47 button');\n",
              "      quickchartButtonEl.style.display =\n",
              "        google.colab.kernel.accessAllowed ? 'block' : 'none';\n",
              "    })();\n",
              "  </script>\n",
              "</div>\n",
              "    </div>\n",
              "  </div>\n"
            ]
          },
          "metadata": {},
          "execution_count": 3
        }
      ]
    },
    {
      "cell_type": "code",
      "source": [
        "df['Date'] = pd.to_datetime(df['Date'])"
      ],
      "metadata": {
        "id": "rSsufv7B7KXT"
      },
      "execution_count": 4,
      "outputs": []
    },
    {
      "cell_type": "code",
      "source": [
        "df.info()"
      ],
      "metadata": {
        "colab": {
          "base_uri": "https://localhost:8080/"
        },
        "id": "VHacpPHuEper",
        "outputId": "008fc53c-0f37-4c69-8094-ded46887861b"
      },
      "execution_count": 5,
      "outputs": [
        {
          "output_type": "stream",
          "name": "stdout",
          "text": [
            "<class 'pandas.core.frame.DataFrame'>\n",
            "RangeIndex: 3019 entries, 0 to 3018\n",
            "Data columns (total 7 columns):\n",
            " #   Column  Non-Null Count  Dtype         \n",
            "---  ------  --------------  -----         \n",
            " 0   Date    3019 non-null   datetime64[ns]\n",
            " 1   Open    3019 non-null   float64       \n",
            " 2   High    3019 non-null   float64       \n",
            " 3   Low     3019 non-null   float64       \n",
            " 4   Close   3019 non-null   float64       \n",
            " 5   Volume  3019 non-null   int64         \n",
            " 6   Name    3019 non-null   object        \n",
            "dtypes: datetime64[ns](1), float64(4), int64(1), object(1)\n",
            "memory usage: 165.2+ KB\n"
          ]
        }
      ]
    },
    {
      "cell_type": "code",
      "source": [
        "df.duplicated().sum()"
      ],
      "metadata": {
        "colab": {
          "base_uri": "https://localhost:8080/"
        },
        "id": "bOuc17A8Et9s",
        "outputId": "7d8c4ecb-0905-4be6-fd8e-1486cf46fd38"
      },
      "execution_count": 6,
      "outputs": [
        {
          "output_type": "execute_result",
          "data": {
            "text/plain": [
              "0"
            ]
          },
          "metadata": {},
          "execution_count": 6
        }
      ]
    },
    {
      "cell_type": "code",
      "source": [
        "df = df[['Date', 'Close']]\n",
        "df = df.set_index('Date')"
      ],
      "metadata": {
        "id": "stHLMUBA9Dzh"
      },
      "execution_count": 7,
      "outputs": []
    },
    {
      "cell_type": "code",
      "source": [
        "gblue = '#4285F4'\n",
        "gred = '#DB4437'\n",
        "gyellow = '#F4B400'\n",
        "ggreen = '#0F9D58'\n",
        "\n",
        "plt.figure(figsize=(15,5))\n",
        "plt.plot(df.index, df['Close'], color=gblue)\n",
        "plt.ylabel('Close Price($)')\n",
        "plt.title('Close Price of GOOGLE',\n",
        "          fontsize=20)"
      ],
      "metadata": {
        "colab": {
          "base_uri": "https://localhost:8080/",
          "height": 491
        },
        "id": "SaYyNTtvEw4U",
        "outputId": "ced09f10-b02f-4c3b-b799-9d5c54990668"
      },
      "execution_count": 8,
      "outputs": [
        {
          "output_type": "execute_result",
          "data": {
            "text/plain": [
              "Text(0.5, 1.0, 'Close Price of GOOGLE')"
            ]
          },
          "metadata": {},
          "execution_count": 8
        },
        {
          "output_type": "display_data",
          "data": {
            "text/plain": [
              "<Figure size 1500x500 with 1 Axes>"
            ],
            "image/png": "[encoded data removed]"
          },
          "metadata": {}
        }
      ]
    },
    {
      "cell_type": "code",
      "source": [
        "# normalizing\n",
        "\n",
        "minmax_scaler = MinMaxScaler(feature_range=(0,1))\n",
        "data_set_scaled = minmax_scaler.fit_transform(np.array(df['Close']).reshape(-1,1))\n",
        "data_set_scaled"
      ],
      "metadata": {
        "colab": {
          "base_uri": "https://localhost:8080/"
        },
        "id": "jUhiNG61M79O",
        "outputId": "4697ca8c-f9a1-44ca-bd17-4293f0a892c1"
      },
      "execution_count": 9,
      "outputs": [
        {
          "output_type": "execute_result",
          "data": {
            "text/plain": [
              "array([[0.09305195],\n",
              "       [0.09829122],\n",
              "       [0.10143897],\n",
              "       ...,\n",
              "       [0.97397097],\n",
              "       [0.96952648],\n",
              "       [0.96685978]])"
            ]
          },
          "metadata": {},
          "execution_count": 9
        }
      ]
    },
    {
      "cell_type": "code",
      "source": [
        "print(\"MAE Treshold: \"+ str((data_set_scaled.max()-data_set_scaled.min())*10/100))"
      ],
      "metadata": {
        "colab": {
          "base_uri": "https://localhost:8080/"
        },
        "id": "eVZLKQTtwDVJ",
        "outputId": "495c158e-d537-4486-f635-9edc7ccd9675"
      },
      "execution_count": 10,
      "outputs": [
        {
          "output_type": "stream",
          "name": "stdout",
          "text": [
            "MAE Treshold: 0.1\n"
          ]
        }
      ]
    },
    {
      "cell_type": "code",
      "source": [
        "# train_size = int(len(data_set_scaled)*0.8)\n",
        "# train_data, test_data = data_set_scaled[0:train_size,:], data_set_scaled[train_size:len(data_set_scaled),:1]"
      ],
      "metadata": {
        "id": "6gJeR81MGmQk"
      },
      "execution_count": 11,
      "outputs": []
    },
    {
      "cell_type": "code",
      "source": [
        "# len(train_data), len(test_data)"
      ],
      "metadata": {
        "id": "FkAHjHEEH8ay"
      },
      "execution_count": 12,
      "outputs": []
    },
    {
      "cell_type": "code",
      "source": [
        "train_data, test_data = train_test_split(data_set_scaled, test_size=0.2, shuffle=False)"
      ],
      "metadata": {
        "id": "eWDRlgWgi_2z"
      },
      "execution_count": 13,
      "outputs": []
    },
    {
      "cell_type": "code",
      "source": [
        "len(train_data), len(test_data)"
      ],
      "metadata": {
        "colab": {
          "base_uri": "https://localhost:8080/"
        },
        "id": "PfcMBcefFEvn",
        "outputId": "3a966338-c255-49f5-c62f-62723321d3e7"
      },
      "execution_count": 14,
      "outputs": [
        {
          "output_type": "execute_result",
          "data": {
            "text/plain": [
              "(2415, 604)"
            ]
          },
          "metadata": {},
          "execution_count": 14
        }
      ]
    },
    {
      "cell_type": "code",
      "source": [
        "def create_xy_variable(dataset, time_step=1):\n",
        "  data_x, data_y = [], []\n",
        "  for i in range(len(dataset)-time_step-1):\n",
        "    data_x.append(dataset[i:(i + time_step), 0]) # i=0, 0,1,2,3,...,n(time_step - 1)\n",
        "    data_y.append(dataset[i + time_step, 0])\n",
        "  return np.array(data_x), np.array(data_y)"
      ],
      "metadata": {
        "id": "O-03wPwRjLwB"
      },
      "execution_count": 15,
      "outputs": []
    },
    {
      "cell_type": "code",
      "source": [
        "x_train, y_train = create_xy_variable(train_data, time_step=60)\n",
        "x_test, y_test = create_xy_variable(test_data, time_step=60)"
      ],
      "metadata": {
        "id": "91gA4GODmh0R"
      },
      "execution_count": 16,
      "outputs": []
    },
    {
      "cell_type": "code",
      "source": [
        "x_train.shape, y_train.shape"
      ],
      "metadata": {
        "colab": {
          "base_uri": "https://localhost:8080/"
        },
        "id": "BvwKn6Y0JUQ1",
        "outputId": "62baaa83-b627-4dd2-ca27-38fcb7f157af"
      },
      "execution_count": 17,
      "outputs": [
        {
          "output_type": "execute_result",
          "data": {
            "text/plain": [
              "((2354, 60), (2354,))"
            ]
          },
          "metadata": {},
          "execution_count": 17
        }
      ]
    },
    {
      "cell_type": "code",
      "source": [
        "# reshape input (x var) to be sample (samples, time_steps, features)\n",
        "x_train = x_train.reshape(x_train.shape[0], x_train.shape[1], 1)\n",
        "x_test = x_test.reshape(x_test.shape[0], x_test.shape[1], 1)"
      ],
      "metadata": {
        "id": "_q7mEGEz89lF"
      },
      "execution_count": 18,
      "outputs": []
    },
    {
      "cell_type": "code",
      "source": [
        "print(x_train.shape)\n",
        "print(x_test.shape)\n",
        "print(y_train.shape)\n",
        "print(y_test.shape)"
      ],
      "metadata": {
        "colab": {
          "base_uri": "https://localhost:8080/"
        },
        "id": "mWPYuWltb4hx",
        "outputId": "e6478e2c-6994-4f60-a7c6-dddd12baf7cd"
      },
      "execution_count": 19,
      "outputs": [
        {
          "output_type": "stream",
          "name": "stdout",
          "text": [
            "(2354, 60, 1)\n",
            "(543, 60, 1)\n",
            "(2354,)\n",
            "(543,)\n"
          ]
        }
      ]
    },
    {
      "cell_type": "code",
      "source": [
        "y = np.concatenate((y_train, y_test))\n",
        "y = y.reshape(-1,1)\n",
        "y = minmax_scaler.inverse_transform(y)\n",
        "y"
      ],
      "metadata": {
        "colab": {
          "base_uri": "https://localhost:8080/"
        },
        "id": "noWAMozgBn9e",
        "outputId": "108e299d-b53b-4ddd-b549-d668dacdc5f2"
      },
      "execution_count": 20,
      "outputs": [
        {
          "output_type": "execute_result",
          "data": {
            "text/plain": [
              "array([[ 194.41],\n",
              "       [ 195.19],\n",
              "       [ 195.04],\n",
              "       ...,\n",
              "       [1065.85],\n",
              "       [1060.2 ],\n",
              "       [1055.95]])"
            ]
          },
          "metadata": {},
          "execution_count": 20
        }
      ]
    },
    {
      "cell_type": "code",
      "source": [
        "plt.boxplot(y)\n",
        "plt.show()"
      ],
      "metadata": {
        "colab": {
          "base_uri": "https://localhost:8080/",
          "height": 430
        },
        "id": "szQXS1ReHGRR",
        "outputId": "9407edda-714b-46b3-aadc-dbc871a43d54"
      },
      "execution_count": 21,
      "outputs": [
        {
          "output_type": "display_data",
          "data": {
            "text/plain": [
              "<Figure size 640x480 with 1 Axes>"
            ],
            "image/png": "[encoded data removed]"
          },
          "metadata": {}
        }
      ]
    },
    {
      "cell_type": "code",
      "source": [
        "# def windowed_dataset(series, shuffle_buffer, window_size = 40, batch_size = 100):\n",
        "#     series = tf.expand_dims(series, axis=-1)\n",
        "#     ds = tf.data.Dataset.from_tensor_slices(series)\n",
        "#     ds = ds.window(window_size + 1, shift=1, drop_remainder=True)\n",
        "#     ds = ds.flat_map(lambda w: w.batch(window_size + 1))\n",
        "#     ds = ds.shuffle(shuffle_buffer)\n",
        "#     ds = ds.map(lambda w: (w[:-1], w[-1:]))\n",
        "#     return ds.batch(batch_size).prefetch(1)"
      ],
      "metadata": {
        "id": "Pnk4BsCvucH6"
      },
      "execution_count": 22,
      "outputs": []
    },
    {
      "cell_type": "code",
      "source": [
        "# x_train_windowed = windowed_dataset(x_train, shuffle_buffer=1000)\n",
        "# y_train_windowed = windowed_dataset(y_train, shuffle_buffer=1000)\n",
        "# x_test_windowed = windowed_dataset(x_test, shuffle_buffer=1000)\n",
        "# y_test_windowed = windowed_dataset(y_test, shuffle_buffer=1000)"
      ],
      "metadata": {
        "id": "yczqla_ZMQk2"
      },
      "execution_count": 23,
      "outputs": []
    },
    {
      "cell_type": "code",
      "source": [
        "model = Sequential()\n",
        "\n",
        "model.add(LSTM(units=60, return_sequences=True, input_shape = (x_train.shape[1], 1)))\n",
        "model.add(Dropout(0.2))\n",
        "model.add(LSTM(units=60, return_sequences=True))\n",
        "model.add(Dropout(0.2))\n",
        "model.add(LSTM(units=60))\n",
        "model.add(Dropout(0.2))\n",
        "model.add(Dense(units=1))\n",
        "\n",
        "model.compile(optimizer='adam', loss=tf.keras.losses.Huber(delta=0.25), metrics=['mean_absolute_error'])\n",
        "# model.compile(optimizer=SGD(learning_rate=0.01, momentum=0.99),loss=tf.keras.losses.Huber(delta=1), metrics=[\"mean_absolute_error\"])"
      ],
      "metadata": {
        "id": "dU2Hg3KHUmy8"
      },
      "execution_count": 25,
      "outputs": []
    },
    {
      "cell_type": "code",
      "source": [
        "class myCallback(tf.keras.callbacks.Callback):\n",
        "  def on_epoch_end(self, epoch, logs={}):\n",
        "    if (logs.get('mean_absolute_error')< .02) and (logs.get('val_mean_absolute_error')< .02):\n",
        "      print('\\nMAE is already < 10%!')\n",
        "      self.model.stop_training = True\n",
        "callbacks = myCallback()\n",
        "\n",
        "history = model.fit(x_train, y_train, validation_data=(x_test, y_test), epochs=100, batch_size=256, verbose=3)"
      ],
      "metadata": {
        "colab": {
          "base_uri": "https://localhost:8080/"
        },
        "id": "F41vQeqfyOiJ",
        "outputId": "26be42d4-82c8-4fed-8a3b-4c12d1ca3636"
      },
      "execution_count": 26,
      "outputs": [
        {
          "output_type": "stream",
          "name": "stdout",
          "text": [
            "Epoch 1/100\n",
            "Epoch 2/100\n",
            "Epoch 3/100\n",
            "Epoch 4/100\n",
            "Epoch 5/100\n",
            "Epoch 6/100\n",
            "Epoch 7/100\n",
            "Epoch 8/100\n",
            "Epoch 9/100\n",
            "Epoch 10/100\n",
            "Epoch 11/100\n",
            "Epoch 12/100\n",
            "Epoch 13/100\n",
            "Epoch 14/100\n",
            "Epoch 15/100\n",
            "Epoch 16/100\n",
            "Epoch 17/100\n",
            "Epoch 18/100\n",
            "Epoch 19/100\n",
            "Epoch 20/100\n",
            "Epoch 21/100\n",
            "Epoch 22/100\n",
            "Epoch 23/100\n",
            "Epoch 24/100\n",
            "Epoch 25/100\n",
            "Epoch 26/100\n",
            "Epoch 27/100\n",
            "Epoch 28/100\n",
            "Epoch 29/100\n",
            "Epoch 30/100\n",
            "Epoch 31/100\n",
            "Epoch 32/100\n",
            "Epoch 33/100\n",
            "Epoch 34/100\n",
            "Epoch 35/100\n",
            "Epoch 36/100\n",
            "Epoch 37/100\n",
            "Epoch 38/100\n",
            "Epoch 39/100\n",
            "Epoch 40/100\n",
            "Epoch 41/100\n",
            "Epoch 42/100\n",
            "Epoch 43/100\n",
            "Epoch 44/100\n",
            "Epoch 45/100\n",
            "Epoch 46/100\n",
            "Epoch 47/100\n",
            "Epoch 48/100\n",
            "Epoch 49/100\n",
            "Epoch 50/100\n",
            "Epoch 51/100\n",
            "Epoch 52/100\n",
            "Epoch 53/100\n",
            "Epoch 54/100\n",
            "Epoch 55/100\n",
            "Epoch 56/100\n",
            "Epoch 57/100\n",
            "Epoch 58/100\n",
            "Epoch 59/100\n",
            "Epoch 60/100\n",
            "Epoch 61/100\n",
            "Epoch 62/100\n",
            "Epoch 63/100\n",
            "Epoch 64/100\n",
            "Epoch 65/100\n",
            "Epoch 66/100\n",
            "Epoch 67/100\n",
            "Epoch 68/100\n",
            "Epoch 69/100\n",
            "Epoch 70/100\n",
            "Epoch 71/100\n",
            "Epoch 72/100\n",
            "Epoch 73/100\n",
            "Epoch 74/100\n",
            "Epoch 75/100\n",
            "Epoch 76/100\n",
            "Epoch 77/100\n",
            "Epoch 78/100\n",
            "Epoch 79/100\n",
            "Epoch 80/100\n",
            "Epoch 81/100\n",
            "Epoch 82/100\n",
            "Epoch 83/100\n",
            "Epoch 84/100\n",
            "Epoch 85/100\n",
            "Epoch 86/100\n",
            "Epoch 87/100\n",
            "Epoch 88/100\n",
            "Epoch 89/100\n",
            "Epoch 90/100\n",
            "Epoch 91/100\n",
            "Epoch 92/100\n",
            "Epoch 93/100\n",
            "Epoch 94/100\n",
            "Epoch 95/100\n",
            "Epoch 96/100\n",
            "Epoch 97/100\n",
            "Epoch 98/100\n",
            "Epoch 99/100\n",
            "Epoch 100/100\n"
          ]
        }
      ]
    },
    {
      "cell_type": "code",
      "source": [
        "plt.plot(history.history['loss'])\n",
        "plt.plot(history.history['val_loss'])\n",
        "plt.title('Loss Model')\n",
        "plt.ylabel('Loss')\n",
        "plt.xlabel('Epoch')\n",
        "plt.legend(['Train', 'Test'])\n",
        "plt.show()"
      ],
      "metadata": {
        "colab": {
          "base_uri": "https://localhost:8080/",
          "height": 472
        },
        "id": "Xi4K0pQ73rZy",
        "outputId": "d3f0219a-5eb2-4b7a-b3f2-a1502cc0354d"
      },
      "execution_count": 27,
      "outputs": [
        {
          "output_type": "display_data",
          "data": {
            "text/plain": [
              "<Figure size 640x480 with 1 Axes>"
            ],
            "image/png": "[encoded data removed]"
          },
          "metadata": {}
        }
      ]
    },
    {
      "cell_type": "code",
      "source": [
        "plt.plot(history.history['mean_absolute_error'])\n",
        "plt.plot(history.history['val_mean_absolute_error'])\n",
        "plt.title('MAE Model')\n",
        "plt.ylabel('MAE')\n",
        "plt.xlabel('Epoch')\n",
        "plt.legend(['Train', 'Test'])\n",
        "plt.show()"
      ],
      "metadata": {
        "colab": {
          "base_uri": "https://localhost:8080/",
          "height": 472
        },
        "id": "_wvKV0Vl4Ed4",
        "outputId": "c61f45f0-db63-47cc-a456-11218223a61e"
      },
      "execution_count": 28,
      "outputs": [
        {
          "output_type": "display_data",
          "data": {
            "text/plain": [
              "<Figure size 640x480 with 1 Axes>"
            ],
            "image/png": "[encoded data removed]"
          },
          "metadata": {}
        }
      ]
    },
    {
      "cell_type": "markdown",
      "source": [
        "PREDICTION"
      ],
      "metadata": {
        "id": "FBUPd_ghmtVc"
      }
    },
    {
      "cell_type": "code",
      "source": [
        "# Lets predict and check the performance metric\n",
        "train_predict = model.predict(x_train, verbose=3, batch_size=256)\n",
        "train_predict = minmax_scaler.inverse_transform(train_predict) # transformback to original form\n",
        "test_predict = model.predict(x_test, verbose=3, batch_size=256)\n",
        "test_predict = minmax_scaler.inverse_transform(test_predict)"
      ],
      "metadata": {
        "id": "oJchWxNemu_d"
      },
      "execution_count": 29,
      "outputs": []
    },
    {
      "cell_type": "code",
      "source": [
        "## plotting the prediction accuracy\n",
        "look_back = 60\n",
        "# shift train predictions for plotting\n",
        "trainPredictPlot = np.empty_like(data_set_scaled)\n",
        "trainPredictPlot[:, :] = np.nan\n",
        "trainPredictPlot[look_back:len(train_predict)+look_back, :] = train_predict\n",
        "# shift test predictions for plotting\n",
        "testPredictPlot = np.empty_like(data_set_scaled)\n",
        "testPredictPlot[:, :] = np.nan\n",
        "testPredictPlot[len(train_predict)+(look_back*2)+1:len(df['Close'])-1, :] = test_predict\n",
        "# plot actual line and prediction\n",
        "plt.plot(df.index, minmax_scaler.inverse_transform(data_set_scaled))\n",
        "plt.plot(df.index, trainPredictPlot)\n",
        "plt.plot(df.index, testPredictPlot)\n",
        "plt.show()"
      ],
      "metadata": {
        "colab": {
          "base_uri": "https://localhost:8080/",
          "height": 430
        },
        "id": "jqjXwFK4mW8M",
        "outputId": "e442b957-95f2-4315-8e0d-d485412565e8"
      },
      "execution_count": 65,
      "outputs": [
        {
          "output_type": "display_data",
          "data": {
            "text/plain": [
              "<Figure size 640x480 with 1 Axes>"
            ],
            "image/png": "[encoded data removed]"
          },
          "metadata": {}
        }
      ]
    },
    {
      "cell_type": "code",
      "source": [
        "[print(i.shape, i.dtype) for i in model.inputs]\n",
        "[print(o.shape, o.dtype) for o in model.outputs]\n",
        "[print(l.name, l.input_shape, l.dtype) for l in model.layers]"
      ],
      "metadata": {
        "colab": {
          "base_uri": "https://localhost:8080/"
        },
        "id": "lwGQyRStlwvM",
        "outputId": "670ac2a5-96ac-4b52-8b50-0b0024eac2e8"
      },
      "execution_count": 36,
      "outputs": [
        {
          "output_type": "stream",
          "name": "stdout",
          "text": [
            "(None, 60, 1) <dtype: 'float32'>\n",
            "(None, 1) <dtype: 'float32'>\n",
            "lstm (None, 60, 1) float32\n",
            "dropout (None, 60, 60) float32\n",
            "lstm_1 (None, 60, 60) float32\n",
            "dropout_1 (None, 60, 60) float32\n",
            "lstm_2 (None, 60, 60) float32\n",
            "dropout_2 (None, 60) float32\n",
            "dense (None, 60) float32\n"
          ]
        },
        {
          "output_type": "execute_result",
          "data": {
            "text/plain": [
              "[None, None, None, None, None, None, None]"
            ]
          },
          "metadata": {},
          "execution_count": 36
        }
      ]
    },
    {
      "cell_type": "code",
      "source": [
        "len(test_data)"
      ],
      "metadata": {
        "colab": {
          "base_uri": "https://localhost:8080/"
        },
        "id": "S69Co58_wZMf",
        "outputId": "708abe0d-3977-4d26-c3c8-ec017805bf94"
      },
      "execution_count": 33,
      "outputs": [
        {
          "output_type": "execute_result",
          "data": {
            "text/plain": [
              "604"
            ]
          },
          "metadata": {},
          "execution_count": 33
        }
      ]
    },
    {
      "cell_type": "code",
      "source": [
        "x_input = test_data[544:].reshape(1,-1)\n",
        "x_input.shape"
      ],
      "metadata": {
        "colab": {
          "base_uri": "https://localhost:8080/"
        },
        "id": "1OaRWJvKzlAe",
        "outputId": "526820cd-8b27-45e5-bf46-45febb9df59c"
      },
      "execution_count": 34,
      "outputs": [
        {
          "output_type": "execute_result",
          "data": {
            "text/plain": [
              "(1, 60)"
            ]
          },
          "metadata": {},
          "execution_count": 34
        }
      ]
    },
    {
      "cell_type": "code",
      "source": [
        "temp_input = list(x_input)\n",
        "temp_input = temp_input[0].tolist()\n",
        "temp_input"
      ],
      "metadata": {
        "colab": {
          "base_uri": "https://localhost:8080/"
        },
        "id": "HHNkf_610fn9",
        "outputId": "21e306fd-6b27-4f83-9771-a36c9ef58ef6"
      },
      "execution_count": 35,
      "outputs": [
        {
          "output_type": "execute_result",
          "data": {
            "text/plain": [
              "[0.8955283192503976,\n",
              " 0.9043650129674561,\n",
              " 0.902974148749268,\n",
              " 0.8982577595582699,\n",
              " 0.9169246214339497,\n",
              " 0.9169246214339497,\n",
              " 0.9192462143394966,\n",
              " 0.9207939429431944,\n",
              " 0.9225194511838033,\n",
              " 0.9243390780557184,\n",
              " 0.9129402660419981,\n",
              " 0.9163180791433114,\n",
              " 0.8958943361499205,\n",
              " 0.8989793357316156,\n",
              " 0.9020852505647119,\n",
              " 0.9020434200619092,\n",
              " 0.9462268886472018,\n",
              " 0.945662176859366,\n",
              " 0.9455680582280601,\n",
              " 0.9555655483978918,\n",
              " 0.9559524805488164,\n",
              " 0.9632937337906804,\n",
              " 0.9556492094034972,\n",
              " 0.9658035639588392,\n",
              " 0.9719735631222288,\n",
              " 0.9609198527566303,\n",
              " 0.9571864803814945,\n",
              " 0.9541014807997994,\n",
              " 0.9545616163306285,\n",
              " 0.9490922780891828,\n",
              " 0.9617041746841799,\n",
              " 0.9485484815527485,\n",
              " 0.9472621935915673,\n",
              " 0.9636179201874007,\n",
              " 0.965312055550908,\n",
              " 0.9701225633732118,\n",
              " 0.9863214255835357,\n",
              " 0.9772023759725592,\n",
              " 0.950106667782147,\n",
              " 0.948841295072367,\n",
              " 0.9372333305446332,\n",
              " 0.9234292646197608,\n",
              " 0.9315130092863717,\n",
              " 0.9452334142056389,\n",
              " 0.9576257006609221,\n",
              " 0.9626558186229401,\n",
              " 0.9653643436794113,\n",
              " 0.9620179034551997,\n",
              " 0.964757801388773,\n",
              " 0.9711160378147747,\n",
              " 0.986310967957835,\n",
              " 1.0,\n",
              " 0.9944470007529491,\n",
              " 0.987942357567138,\n",
              " 0.985108341002259,\n",
              " 0.9830272734878274,\n",
              " 0.9798795281519284,\n",
              " 0.9739709696310552,\n",
              " 0.9695264787082742,\n",
              " 0.9668597841546058]"
            ]
          },
          "metadata": {},
          "execution_count": 35
        }
      ]
    },
    {
      "cell_type": "code",
      "source": [
        "# Lets predict for next 30 days\n",
        "\n",
        "list_output = []\n",
        "time_steps = 60\n",
        "i = 0\n",
        "while(i<30):\n",
        "  if(len(temp_input)>60):\n",
        "    # print(temp_input)\n",
        "    x_input = np.array(temp_input[1:])\n",
        "    print('{} day input {}'.format(i, x_input))\n",
        "    x_input = x_input.reshape(1,-1)\n",
        "    x_input = x_input.reshape((1, time_steps, 1))\n",
        "    # print(x_input)\n",
        "    y_output = model.predict(x_input, verbose=3, batch_size=256)\n",
        "    print('{} day input {}'.format(i, y_output))\n",
        "    temp_input.extend(y_output[0].tolist())\n",
        "    temp_input = temp_input[1:]\n",
        "    # print(temp_input)\n",
        "    list_output.extend(y_output.tolist())\n",
        "    i = i+1\n",
        "  else:\n",
        "    x_input = x_input.reshape((1, time_steps, 1))\n",
        "    y_output = model.predict(x_input, verbose=3, batch_size=256)\n",
        "    print(y_output[0])\n",
        "    temp_input.extend(y_output[0].tolist())\n",
        "    print(len(temp_input))\n",
        "    list_output.extend(y_output.tolist())\n",
        "    i = i+1\n",
        "\n",
        "print(list_output)"
      ],
      "metadata": {
        "colab": {
          "base_uri": "https://localhost:8080/"
        },
        "id": "aUzv21Ra2i7I",
        "outputId": "8366bf9d-9aa0-4d48-d934-5432f05f1eba"
      },
      "execution_count": 37,
      "outputs": [
        {
          "output_type": "stream",
          "name": "stdout",
          "text": [
            "[0.9734965]\n",
            "61\n",
            "1 day input [0.90436501 0.90297415 0.89825776 0.91692462 0.91692462 0.91924621\n",
            " 0.92079394 0.92251945 0.92433908 0.91294027 0.91631808 0.89589434\n",
            " 0.89897934 0.90208525 0.90204342 0.94622689 0.94566218 0.94556806\n",
            " 0.95556555 0.95595248 0.96329373 0.95564921 0.96580356 0.97197356\n",
            " 0.96091985 0.95718648 0.95410148 0.95456162 0.94909228 0.96170417\n",
            " 0.94854848 0.94726219 0.96361792 0.96531206 0.97012256 0.98632143\n",
            " 0.97720238 0.95010667 0.9488413  0.93723333 0.92342926 0.93151301\n",
            " 0.94523341 0.9576257  0.96265582 0.96536434 0.9620179  0.9647578\n",
            " 0.97111604 0.98631097 1.         0.994447   0.98794236 0.98510834\n",
            " 0.98302727 0.97987953 0.97397097 0.96952648 0.96685978 0.9734965 ]\n",
            "1 day input [[0.97060585]]\n",
            "2 day input [0.90297415 0.89825776 0.91692462 0.91692462 0.91924621 0.92079394\n",
            " 0.92251945 0.92433908 0.91294027 0.91631808 0.89589434 0.89897934\n",
            " 0.90208525 0.90204342 0.94622689 0.94566218 0.94556806 0.95556555\n",
            " 0.95595248 0.96329373 0.95564921 0.96580356 0.97197356 0.96091985\n",
            " 0.95718648 0.95410148 0.95456162 0.94909228 0.96170417 0.94854848\n",
            " 0.94726219 0.96361792 0.96531206 0.97012256 0.98632143 0.97720238\n",
            " 0.95010667 0.9488413  0.93723333 0.92342926 0.93151301 0.94523341\n",
            " 0.9576257  0.96265582 0.96536434 0.9620179  0.9647578  0.97111604\n",
            " 0.98631097 1.         0.994447   0.98794236 0.98510834 0.98302727\n",
            " 0.97987953 0.97397097 0.96952648 0.96685978 0.9734965  0.97060585]\n",
            "2 day input [[0.96770763]]\n",
            "3 day input [0.89825776 0.91692462 0.91692462 0.91924621 0.92079394 0.92251945\n",
            " 0.92433908 0.91294027 0.91631808 0.89589434 0.89897934 0.90208525\n",
            " 0.90204342 0.94622689 0.94566218 0.94556806 0.95556555 0.95595248\n",
            " 0.96329373 0.95564921 0.96580356 0.97197356 0.96091985 0.95718648\n",
            " 0.95410148 0.95456162 0.94909228 0.96170417 0.94854848 0.94726219\n",
            " 0.96361792 0.96531206 0.97012256 0.98632143 0.97720238 0.95010667\n",
            " 0.9488413  0.93723333 0.92342926 0.93151301 0.94523341 0.9576257\n",
            " 0.96265582 0.96536434 0.9620179  0.9647578  0.97111604 0.98631097\n",
            " 1.         0.994447   0.98794236 0.98510834 0.98302727 0.97987953\n",
            " 0.97397097 0.96952648 0.96685978 0.9734965  0.97060585 0.96770763]\n",
            "3 day input [[0.9649587]]\n",
            "4 day input [0.91692462 0.91692462 0.91924621 0.92079394 0.92251945 0.92433908\n",
            " 0.91294027 0.91631808 0.89589434 0.89897934 0.90208525 0.90204342\n",
            " 0.94622689 0.94566218 0.94556806 0.95556555 0.95595248 0.96329373\n",
            " 0.95564921 0.96580356 0.97197356 0.96091985 0.95718648 0.95410148\n",
            " 0.95456162 0.94909228 0.96170417 0.94854848 0.94726219 0.96361792\n",
            " 0.96531206 0.97012256 0.98632143 0.97720238 0.95010667 0.9488413\n",
            " 0.93723333 0.92342926 0.93151301 0.94523341 0.9576257  0.96265582\n",
            " 0.96536434 0.9620179  0.9647578  0.97111604 0.98631097 1.\n",
            " 0.994447   0.98794236 0.98510834 0.98302727 0.97987953 0.97397097\n",
            " 0.96952648 0.96685978 0.9734965  0.97060585 0.96770763 0.96495873]\n",
            "4 day input [[0.9624017]]\n",
            "5 day input [0.91692462 0.91924621 0.92079394 0.92251945 0.92433908 0.91294027\n",
            " 0.91631808 0.89589434 0.89897934 0.90208525 0.90204342 0.94622689\n",
            " 0.94566218 0.94556806 0.95556555 0.95595248 0.96329373 0.95564921\n",
            " 0.96580356 0.97197356 0.96091985 0.95718648 0.95410148 0.95456162\n",
            " 0.94909228 0.96170417 0.94854848 0.94726219 0.96361792 0.96531206\n",
            " 0.97012256 0.98632143 0.97720238 0.95010667 0.9488413  0.93723333\n",
            " 0.92342926 0.93151301 0.94523341 0.9576257  0.96265582 0.96536434\n",
            " 0.9620179  0.9647578  0.97111604 0.98631097 1.         0.994447\n",
            " 0.98794236 0.98510834 0.98302727 0.97987953 0.97397097 0.96952648\n",
            " 0.96685978 0.9734965  0.97060585 0.96770763 0.96495873 0.96240169]\n",
            "5 day input [[0.9600256]]\n",
            "6 day input [0.91924621 0.92079394 0.92251945 0.92433908 0.91294027 0.91631808\n",
            " 0.89589434 0.89897934 0.90208525 0.90204342 0.94622689 0.94566218\n",
            " 0.94556806 0.95556555 0.95595248 0.96329373 0.95564921 0.96580356\n",
            " 0.97197356 0.96091985 0.95718648 0.95410148 0.95456162 0.94909228\n",
            " 0.96170417 0.94854848 0.94726219 0.96361792 0.96531206 0.97012256\n",
            " 0.98632143 0.97720238 0.95010667 0.9488413  0.93723333 0.92342926\n",
            " 0.93151301 0.94523341 0.9576257  0.96265582 0.96536434 0.9620179\n",
            " 0.9647578  0.97111604 0.98631097 1.         0.994447   0.98794236\n",
            " 0.98510834 0.98302727 0.97987953 0.97397097 0.96952648 0.96685978\n",
            " 0.9734965  0.97060585 0.96770763 0.96495873 0.96240169 0.96002561]\n",
            "6 day input [[0.95780116]]\n",
            "7 day input [0.92079394 0.92251945 0.92433908 0.91294027 0.91631808 0.89589434\n",
            " 0.89897934 0.90208525 0.90204342 0.94622689 0.94566218 0.94556806\n",
            " 0.95556555 0.95595248 0.96329373 0.95564921 0.96580356 0.97197356\n",
            " 0.96091985 0.95718648 0.95410148 0.95456162 0.94909228 0.96170417\n",
            " 0.94854848 0.94726219 0.96361792 0.96531206 0.97012256 0.98632143\n",
            " 0.97720238 0.95010667 0.9488413  0.93723333 0.92342926 0.93151301\n",
            " 0.94523341 0.9576257  0.96265582 0.96536434 0.9620179  0.9647578\n",
            " 0.97111604 0.98631097 1.         0.994447   0.98794236 0.98510834\n",
            " 0.98302727 0.97987953 0.97397097 0.96952648 0.96685978 0.9734965\n",
            " 0.97060585 0.96770763 0.96495873 0.96240169 0.96002561 0.95780116]\n",
            "7 day input [[0.95569813]]\n",
            "8 day input [0.92251945 0.92433908 0.91294027 0.91631808 0.89589434 0.89897934\n",
            " 0.90208525 0.90204342 0.94622689 0.94566218 0.94556806 0.95556555\n",
            " 0.95595248 0.96329373 0.95564921 0.96580356 0.97197356 0.96091985\n",
            " 0.95718648 0.95410148 0.95456162 0.94909228 0.96170417 0.94854848\n",
            " 0.94726219 0.96361792 0.96531206 0.97012256 0.98632143 0.97720238\n",
            " 0.95010667 0.9488413  0.93723333 0.92342926 0.93151301 0.94523341\n",
            " 0.9576257  0.96265582 0.96536434 0.9620179  0.9647578  0.97111604\n",
            " 0.98631097 1.         0.994447   0.98794236 0.98510834 0.98302727\n",
            " 0.97987953 0.97397097 0.96952648 0.96685978 0.9734965  0.97060585\n",
            " 0.96770763 0.96495873 0.96240169 0.96002561 0.95780116 0.95569813]\n",
            "8 day input [[0.9536919]]\n",
            "9 day input [0.92433908 0.91294027 0.91631808 0.89589434 0.89897934 0.90208525\n",
            " 0.90204342 0.94622689 0.94566218 0.94556806 0.95556555 0.95595248\n",
            " 0.96329373 0.95564921 0.96580356 0.97197356 0.96091985 0.95718648\n",
            " 0.95410148 0.95456162 0.94909228 0.96170417 0.94854848 0.94726219\n",
            " 0.96361792 0.96531206 0.97012256 0.98632143 0.97720238 0.95010667\n",
            " 0.9488413  0.93723333 0.92342926 0.93151301 0.94523341 0.9576257\n",
            " 0.96265582 0.96536434 0.9620179  0.9647578  0.97111604 0.98631097\n",
            " 1.         0.994447   0.98794236 0.98510834 0.98302727 0.97987953\n",
            " 0.97397097 0.96952648 0.96685978 0.9734965  0.97060585 0.96770763\n",
            " 0.96495873 0.96240169 0.96002561 0.95780116 0.95569813 0.9536919 ]\n",
            "9 day input [[0.9517651]]\n",
            "10 day input [0.91294027 0.91631808 0.89589434 0.89897934 0.90208525 0.90204342\n",
            " 0.94622689 0.94566218 0.94556806 0.95556555 0.95595248 0.96329373\n",
            " 0.95564921 0.96580356 0.97197356 0.96091985 0.95718648 0.95410148\n",
            " 0.95456162 0.94909228 0.96170417 0.94854848 0.94726219 0.96361792\n",
            " 0.96531206 0.97012256 0.98632143 0.97720238 0.95010667 0.9488413\n",
            " 0.93723333 0.92342926 0.93151301 0.94523341 0.9576257  0.96265582\n",
            " 0.96536434 0.9620179  0.9647578  0.97111604 0.98631097 1.\n",
            " 0.994447   0.98794236 0.98510834 0.98302727 0.97987953 0.97397097\n",
            " 0.96952648 0.96685978 0.9734965  0.97060585 0.96770763 0.96495873\n",
            " 0.96240169 0.96002561 0.95780116 0.95569813 0.9536919  0.95176512]\n",
            "10 day input [[0.94990623]]\n",
            "11 day input [0.91631808 0.89589434 0.89897934 0.90208525 0.90204342 0.94622689\n",
            " 0.94566218 0.94556806 0.95556555 0.95595248 0.96329373 0.95564921\n",
            " 0.96580356 0.97197356 0.96091985 0.95718648 0.95410148 0.95456162\n",
            " 0.94909228 0.96170417 0.94854848 0.94726219 0.96361792 0.96531206\n",
            " 0.97012256 0.98632143 0.97720238 0.95010667 0.9488413  0.93723333\n",
            " 0.92342926 0.93151301 0.94523341 0.9576257  0.96265582 0.96536434\n",
            " 0.9620179  0.9647578  0.97111604 0.98631097 1.         0.994447\n",
            " 0.98794236 0.98510834 0.98302727 0.97987953 0.97397097 0.96952648\n",
            " 0.96685978 0.9734965  0.97060585 0.96770763 0.96495873 0.96240169\n",
            " 0.96002561 0.95780116 0.95569813 0.9536919  0.95176512 0.94990623]\n",
            "11 day input [[0.9481073]]\n",
            "12 day input [0.89589434 0.89897934 0.90208525 0.90204342 0.94622689 0.94566218\n",
            " 0.94556806 0.95556555 0.95595248 0.96329373 0.95564921 0.96580356\n",
            " 0.97197356 0.96091985 0.95718648 0.95410148 0.95456162 0.94909228\n",
            " 0.96170417 0.94854848 0.94726219 0.96361792 0.96531206 0.97012256\n",
            " 0.98632143 0.97720238 0.95010667 0.9488413  0.93723333 0.92342926\n",
            " 0.93151301 0.94523341 0.9576257  0.96265582 0.96536434 0.9620179\n",
            " 0.9647578  0.97111604 0.98631097 1.         0.994447   0.98794236\n",
            " 0.98510834 0.98302727 0.97987953 0.97397097 0.96952648 0.96685978\n",
            " 0.9734965  0.97060585 0.96770763 0.96495873 0.96240169 0.96002561\n",
            " 0.95780116 0.95569813 0.9536919  0.95176512 0.94990623 0.9481073 ]\n",
            "12 day input [[0.9463632]]\n",
            "13 day input [0.89897934 0.90208525 0.90204342 0.94622689 0.94566218 0.94556806\n",
            " 0.95556555 0.95595248 0.96329373 0.95564921 0.96580356 0.97197356\n",
            " 0.96091985 0.95718648 0.95410148 0.95456162 0.94909228 0.96170417\n",
            " 0.94854848 0.94726219 0.96361792 0.96531206 0.97012256 0.98632143\n",
            " 0.97720238 0.95010667 0.9488413  0.93723333 0.92342926 0.93151301\n",
            " 0.94523341 0.9576257  0.96265582 0.96536434 0.9620179  0.9647578\n",
            " 0.97111604 0.98631097 1.         0.994447   0.98794236 0.98510834\n",
            " 0.98302727 0.97987953 0.97397097 0.96952648 0.96685978 0.9734965\n",
            " 0.97060585 0.96770763 0.96495873 0.96240169 0.96002561 0.95780116\n",
            " 0.95569813 0.9536919  0.95176512 0.94990623 0.9481073  0.94636321]\n",
            "13 day input [[0.94466954]]\n",
            "14 day input [0.90208525 0.90204342 0.94622689 0.94566218 0.94556806 0.95556555\n",
            " 0.95595248 0.96329373 0.95564921 0.96580356 0.97197356 0.96091985\n",
            " 0.95718648 0.95410148 0.95456162 0.94909228 0.96170417 0.94854848\n",
            " 0.94726219 0.96361792 0.96531206 0.97012256 0.98632143 0.97720238\n",
            " 0.95010667 0.9488413  0.93723333 0.92342926 0.93151301 0.94523341\n",
            " 0.9576257  0.96265582 0.96536434 0.9620179  0.9647578  0.97111604\n",
            " 0.98631097 1.         0.994447   0.98794236 0.98510834 0.98302727\n",
            " 0.97987953 0.97397097 0.96952648 0.96685978 0.9734965  0.97060585\n",
            " 0.96770763 0.96495873 0.96240169 0.96002561 0.95780116 0.95569813\n",
            " 0.9536919  0.95176512 0.94990623 0.9481073  0.94636321 0.94466954]\n",
            "14 day input [[0.94302255]]\n",
            "15 day input [0.90204342 0.94622689 0.94566218 0.94556806 0.95556555 0.95595248\n",
            " 0.96329373 0.95564921 0.96580356 0.97197356 0.96091985 0.95718648\n",
            " 0.95410148 0.95456162 0.94909228 0.96170417 0.94854848 0.94726219\n",
            " 0.96361792 0.96531206 0.97012256 0.98632143 0.97720238 0.95010667\n",
            " 0.9488413  0.93723333 0.92342926 0.93151301 0.94523341 0.9576257\n",
            " 0.96265582 0.96536434 0.9620179  0.9647578  0.97111604 0.98631097\n",
            " 1.         0.994447   0.98794236 0.98510834 0.98302727 0.97987953\n",
            " 0.97397097 0.96952648 0.96685978 0.9734965  0.97060585 0.96770763\n",
            " 0.96495873 0.96240169 0.96002561 0.95780116 0.95569813 0.9536919\n",
            " 0.95176512 0.94990623 0.9481073  0.94636321 0.94466954 0.94302255]\n",
            "15 day input [[0.9414189]]\n",
            "16 day input [0.94622689 0.94566218 0.94556806 0.95556555 0.95595248 0.96329373\n",
            " 0.95564921 0.96580356 0.97197356 0.96091985 0.95718648 0.95410148\n",
            " 0.95456162 0.94909228 0.96170417 0.94854848 0.94726219 0.96361792\n",
            " 0.96531206 0.97012256 0.98632143 0.97720238 0.95010667 0.9488413\n",
            " 0.93723333 0.92342926 0.93151301 0.94523341 0.9576257  0.96265582\n",
            " 0.96536434 0.9620179  0.9647578  0.97111604 0.98631097 1.\n",
            " 0.994447   0.98794236 0.98510834 0.98302727 0.97987953 0.97397097\n",
            " 0.96952648 0.96685978 0.9734965  0.97060585 0.96770763 0.96495873\n",
            " 0.96240169 0.96002561 0.95780116 0.95569813 0.9536919  0.95176512\n",
            " 0.94990623 0.9481073  0.94636321 0.94466954 0.94302255 0.94141889]\n",
            "16 day input [[0.93985504]]\n",
            "17 day input [0.94566218 0.94556806 0.95556555 0.95595248 0.96329373 0.95564921\n",
            " 0.96580356 0.97197356 0.96091985 0.95718648 0.95410148 0.95456162\n",
            " 0.94909228 0.96170417 0.94854848 0.94726219 0.96361792 0.96531206\n",
            " 0.97012256 0.98632143 0.97720238 0.95010667 0.9488413  0.93723333\n",
            " 0.92342926 0.93151301 0.94523341 0.9576257  0.96265582 0.96536434\n",
            " 0.9620179  0.9647578  0.97111604 0.98631097 1.         0.994447\n",
            " 0.98794236 0.98510834 0.98302727 0.97987953 0.97397097 0.96952648\n",
            " 0.96685978 0.9734965  0.97060585 0.96770763 0.96495873 0.96240169\n",
            " 0.96002561 0.95780116 0.95569813 0.9536919  0.95176512 0.94990623\n",
            " 0.9481073  0.94636321 0.94466954 0.94302255 0.94141889 0.93985504]\n",
            "17 day input [[0.9383276]]\n",
            "18 day input [0.94556806 0.95556555 0.95595248 0.96329373 0.95564921 0.96580356\n",
            " 0.97197356 0.96091985 0.95718648 0.95410148 0.95456162 0.94909228\n",
            " 0.96170417 0.94854848 0.94726219 0.96361792 0.96531206 0.97012256\n",
            " 0.98632143 0.97720238 0.95010667 0.9488413  0.93723333 0.92342926\n",
            " 0.93151301 0.94523341 0.9576257  0.96265582 0.96536434 0.9620179\n",
            " 0.9647578  0.97111604 0.98631097 1.         0.994447   0.98794236\n",
            " 0.98510834 0.98302727 0.97987953 0.97397097 0.96952648 0.96685978\n",
            " 0.9734965  0.97060585 0.96770763 0.96495873 0.96240169 0.96002561\n",
            " 0.95780116 0.95569813 0.9536919  0.95176512 0.94990623 0.9481073\n",
            " 0.94636321 0.94466954 0.94302255 0.94141889 0.93985504 0.93832761]\n",
            "18 day input [[0.93683374]]\n",
            "19 day input [0.95556555 0.95595248 0.96329373 0.95564921 0.96580356 0.97197356\n",
            " 0.96091985 0.95718648 0.95410148 0.95456162 0.94909228 0.96170417\n",
            " 0.94854848 0.94726219 0.96361792 0.96531206 0.97012256 0.98632143\n",
            " 0.97720238 0.95010667 0.9488413  0.93723333 0.92342926 0.93151301\n",
            " 0.94523341 0.9576257  0.96265582 0.96536434 0.9620179  0.9647578\n",
            " 0.97111604 0.98631097 1.         0.994447   0.98794236 0.98510834\n",
            " 0.98302727 0.97987953 0.97397097 0.96952648 0.96685978 0.9734965\n",
            " 0.97060585 0.96770763 0.96495873 0.96240169 0.96002561 0.95780116\n",
            " 0.95569813 0.9536919  0.95176512 0.94990623 0.9481073  0.94636321\n",
            " 0.94466954 0.94302255 0.94141889 0.93985504 0.93832761 0.93683374]\n",
            "19 day input [[0.9353706]]\n",
            "20 day input [0.95595248 0.96329373 0.95564921 0.96580356 0.97197356 0.96091985\n",
            " 0.95718648 0.95410148 0.95456162 0.94909228 0.96170417 0.94854848\n",
            " 0.94726219 0.96361792 0.96531206 0.97012256 0.98632143 0.97720238\n",
            " 0.95010667 0.9488413  0.93723333 0.92342926 0.93151301 0.94523341\n",
            " 0.9576257  0.96265582 0.96536434 0.9620179  0.9647578  0.97111604\n",
            " 0.98631097 1.         0.994447   0.98794236 0.98510834 0.98302727\n",
            " 0.97987953 0.97397097 0.96952648 0.96685978 0.9734965  0.97060585\n",
            " 0.96770763 0.96495873 0.96240169 0.96002561 0.95780116 0.95569813\n",
            " 0.9536919  0.95176512 0.94990623 0.9481073  0.94636321 0.94466954\n",
            " 0.94302255 0.94141889 0.93985504 0.93832761 0.93683374 0.93537062]\n",
            "20 day input [[0.9339356]]\n",
            "21 day input [0.96329373 0.95564921 0.96580356 0.97197356 0.96091985 0.95718648\n",
            " 0.95410148 0.95456162 0.94909228 0.96170417 0.94854848 0.94726219\n",
            " 0.96361792 0.96531206 0.97012256 0.98632143 0.97720238 0.95010667\n",
            " 0.9488413  0.93723333 0.92342926 0.93151301 0.94523341 0.9576257\n",
            " 0.96265582 0.96536434 0.9620179  0.9647578  0.97111604 0.98631097\n",
            " 1.         0.994447   0.98794236 0.98510834 0.98302727 0.97987953\n",
            " 0.97397097 0.96952648 0.96685978 0.9734965  0.97060585 0.96770763\n",
            " 0.96495873 0.96240169 0.96002561 0.95780116 0.95569813 0.9536919\n",
            " 0.95176512 0.94990623 0.9481073  0.94636321 0.94466954 0.94302255\n",
            " 0.94141889 0.93985504 0.93832761 0.93683374 0.93537062 0.93393558]\n",
            "21 day input [[0.9325265]]\n",
            "22 day input [0.95564921 0.96580356 0.97197356 0.96091985 0.95718648 0.95410148\n",
            " 0.95456162 0.94909228 0.96170417 0.94854848 0.94726219 0.96361792\n",
            " 0.96531206 0.97012256 0.98632143 0.97720238 0.95010667 0.9488413\n",
            " 0.93723333 0.92342926 0.93151301 0.94523341 0.9576257  0.96265582\n",
            " 0.96536434 0.9620179  0.9647578  0.97111604 0.98631097 1.\n",
            " 0.994447   0.98794236 0.98510834 0.98302727 0.97987953 0.97397097\n",
            " 0.96952648 0.96685978 0.9734965  0.97060585 0.96770763 0.96495873\n",
            " 0.96240169 0.96002561 0.95780116 0.95569813 0.9536919  0.95176512\n",
            " 0.94990623 0.9481073  0.94636321 0.94466954 0.94302255 0.94141889\n",
            " 0.93985504 0.93832761 0.93683374 0.93537062 0.93393558 0.93252653]\n",
            "22 day input [[0.93114156]]\n",
            "23 day input [0.96580356 0.97197356 0.96091985 0.95718648 0.95410148 0.95456162\n",
            " 0.94909228 0.96170417 0.94854848 0.94726219 0.96361792 0.96531206\n",
            " 0.97012256 0.98632143 0.97720238 0.95010667 0.9488413  0.93723333\n",
            " 0.92342926 0.93151301 0.94523341 0.9576257  0.96265582 0.96536434\n",
            " 0.9620179  0.9647578  0.97111604 0.98631097 1.         0.994447\n",
            " 0.98794236 0.98510834 0.98302727 0.97987953 0.97397097 0.96952648\n",
            " 0.96685978 0.9734965  0.97060585 0.96770763 0.96495873 0.96240169\n",
            " 0.96002561 0.95780116 0.95569813 0.9536919  0.95176512 0.94990623\n",
            " 0.9481073  0.94636321 0.94466954 0.94302255 0.94141889 0.93985504\n",
            " 0.93832761 0.93683374 0.93537062 0.93393558 0.93252653 0.93114156]\n",
            "23 day input [[0.929779]]\n",
            "24 day input [0.97197356 0.96091985 0.95718648 0.95410148 0.95456162 0.94909228\n",
            " 0.96170417 0.94854848 0.94726219 0.96361792 0.96531206 0.97012256\n",
            " 0.98632143 0.97720238 0.95010667 0.9488413  0.93723333 0.92342926\n",
            " 0.93151301 0.94523341 0.9576257  0.96265582 0.96536434 0.9620179\n",
            " 0.9647578  0.97111604 0.98631097 1.         0.994447   0.98794236\n",
            " 0.98510834 0.98302727 0.97987953 0.97397097 0.96952648 0.96685978\n",
            " 0.9734965  0.97060585 0.96770763 0.96495873 0.96240169 0.96002561\n",
            " 0.95780116 0.95569813 0.9536919  0.95176512 0.94990623 0.9481073\n",
            " 0.94636321 0.94466954 0.94302255 0.94141889 0.93985504 0.93832761\n",
            " 0.93683374 0.93537062 0.93393558 0.93252653 0.93114156 0.92977899]\n",
            "24 day input [[0.9284377]]\n",
            "25 day input [0.96091985 0.95718648 0.95410148 0.95456162 0.94909228 0.96170417\n",
            " 0.94854848 0.94726219 0.96361792 0.96531206 0.97012256 0.98632143\n",
            " 0.97720238 0.95010667 0.9488413  0.93723333 0.92342926 0.93151301\n",
            " 0.94523341 0.9576257  0.96265582 0.96536434 0.9620179  0.9647578\n",
            " 0.97111604 0.98631097 1.         0.994447   0.98794236 0.98510834\n",
            " 0.98302727 0.97987953 0.97397097 0.96952648 0.96685978 0.9734965\n",
            " 0.97060585 0.96770763 0.96495873 0.96240169 0.96002561 0.95780116\n",
            " 0.95569813 0.9536919  0.95176512 0.94990623 0.9481073  0.94636321\n",
            " 0.94466954 0.94302255 0.94141889 0.93985504 0.93832761 0.93683374\n",
            " 0.93537062 0.93393558 0.93252653 0.93114156 0.92977899 0.92843771]\n",
            "25 day input [[0.9271165]]\n",
            "26 day input [0.95718648 0.95410148 0.95456162 0.94909228 0.96170417 0.94854848\n",
            " 0.94726219 0.96361792 0.96531206 0.97012256 0.98632143 0.97720238\n",
            " 0.95010667 0.9488413  0.93723333 0.92342926 0.93151301 0.94523341\n",
            " 0.9576257  0.96265582 0.96536434 0.9620179  0.9647578  0.97111604\n",
            " 0.98631097 1.         0.994447   0.98794236 0.98510834 0.98302727\n",
            " 0.97987953 0.97397097 0.96952648 0.96685978 0.9734965  0.97060585\n",
            " 0.96770763 0.96495873 0.96240169 0.96002561 0.95780116 0.95569813\n",
            " 0.9536919  0.95176512 0.94990623 0.9481073  0.94636321 0.94466954\n",
            " 0.94302255 0.94141889 0.93985504 0.93832761 0.93683374 0.93537062\n",
            " 0.93393558 0.93252653 0.93114156 0.92977899 0.92843771 0.92711651]\n",
            "26 day input [[0.92581445]]\n",
            "27 day input [0.95410148 0.95456162 0.94909228 0.96170417 0.94854848 0.94726219\n",
            " 0.96361792 0.96531206 0.97012256 0.98632143 0.97720238 0.95010667\n",
            " 0.9488413  0.93723333 0.92342926 0.93151301 0.94523341 0.9576257\n",
            " 0.96265582 0.96536434 0.9620179  0.9647578  0.97111604 0.98631097\n",
            " 1.         0.994447   0.98794236 0.98510834 0.98302727 0.97987953\n",
            " 0.97397097 0.96952648 0.96685978 0.9734965  0.97060585 0.96770763\n",
            " 0.96495873 0.96240169 0.96002561 0.95780116 0.95569813 0.9536919\n",
            " 0.95176512 0.94990623 0.9481073  0.94636321 0.94466954 0.94302255\n",
            " 0.94141889 0.93985504 0.93832761 0.93683374 0.93537062 0.93393558\n",
            " 0.93252653 0.93114156 0.92977899 0.92843771 0.92711651 0.92581445]\n",
            "27 day input [[0.9245308]]\n",
            "28 day input [0.95456162 0.94909228 0.96170417 0.94854848 0.94726219 0.96361792\n",
            " 0.96531206 0.97012256 0.98632143 0.97720238 0.95010667 0.9488413\n",
            " 0.93723333 0.92342926 0.93151301 0.94523341 0.9576257  0.96265582\n",
            " 0.96536434 0.9620179  0.9647578  0.97111604 0.98631097 1.\n",
            " 0.994447   0.98794236 0.98510834 0.98302727 0.97987953 0.97397097\n",
            " 0.96952648 0.96685978 0.9734965  0.97060585 0.96770763 0.96495873\n",
            " 0.96240169 0.96002561 0.95780116 0.95569813 0.9536919  0.95176512\n",
            " 0.94990623 0.9481073  0.94636321 0.94466954 0.94302255 0.94141889\n",
            " 0.93985504 0.93832761 0.93683374 0.93537062 0.93393558 0.93252653\n",
            " 0.93114156 0.92977899 0.92843771 0.92711651 0.92581445 0.9245308 ]\n",
            "28 day input [[0.9232651]]\n",
            "29 day input [0.94909228 0.96170417 0.94854848 0.94726219 0.96361792 0.96531206\n",
            " 0.97012256 0.98632143 0.97720238 0.95010667 0.9488413  0.93723333\n",
            " 0.92342926 0.93151301 0.94523341 0.9576257  0.96265582 0.96536434\n",
            " 0.9620179  0.9647578  0.97111604 0.98631097 1.         0.994447\n",
            " 0.98794236 0.98510834 0.98302727 0.97987953 0.97397097 0.96952648\n",
            " 0.96685978 0.9734965  0.97060585 0.96770763 0.96495873 0.96240169\n",
            " 0.96002561 0.95780116 0.95569813 0.9536919  0.95176512 0.94990623\n",
            " 0.9481073  0.94636321 0.94466954 0.94302255 0.94141889 0.93985504\n",
            " 0.93832761 0.93683374 0.93537062 0.93393558 0.93252653 0.93114156\n",
            " 0.92977899 0.92843771 0.92711651 0.92581445 0.9245308  0.9232651 ]\n",
            "29 day input [[0.9220167]]\n",
            "[[0.9734964966773987], [0.9706058502197266], [0.967707633972168], [0.9649587273597717], [0.9624016880989075], [0.9600256085395813], [0.9578011631965637], [0.9556981325149536], [0.9536918997764587], [0.9517651200294495], [0.9499062299728394], [0.9481073021888733], [0.9463632106781006], [0.9446695446968079], [0.9430225491523743], [0.9414188861846924], [0.9398550391197205], [0.9383276104927063], [0.9368337392807007], [0.9353706240653992], [0.9339355826377869], [0.9325265288352966], [0.9311415553092957], [0.9297789931297302], [0.9284377098083496], [0.9271165132522583], [0.9258144497871399], [0.9245308041572571], [0.9232650995254517], [0.9220166802406311]]\n"
          ]
        }
      ]
    },
    {
      "cell_type": "code",
      "source": [
        "day_new = np.arange(1, 61)\n",
        "day_predict = np.arange(61, 91)"
      ],
      "metadata": {
        "id": "hp2_mstlCJg7"
      },
      "execution_count": 38,
      "outputs": []
    },
    {
      "cell_type": "code",
      "source": [
        "len(data_set_scaled)"
      ],
      "metadata": {
        "id": "GKlvLrT0CgiU",
        "colab": {
          "base_uri": "https://localhost:8080/"
        },
        "outputId": "e0add773-2025-4fb2-9f34-00db5469cb1e"
      },
      "execution_count": 39,
      "outputs": [
        {
          "output_type": "execute_result",
          "data": {
            "text/plain": [
              "3019"
            ]
          },
          "metadata": {},
          "execution_count": 39
        }
      ]
    },
    {
      "cell_type": "code",
      "source": [
        "# plot prediction result\n",
        "plt.plot(day_new, minmax_scaler.inverse_transform(data_set_scaled[2959:]))\n",
        "plt.plot(day_predict, minmax_scaler.inverse_transform(list_output))"
      ],
      "metadata": {
        "id": "V2TxqFNAC_Yl",
        "colab": {
          "base_uri": "https://localhost:8080/",
          "height": 448
        },
        "outputId": "941f4c2e-c4b6-44cb-d6e5-3fc647b31a2f"
      },
      "execution_count": 46,
      "outputs": [
        {
          "output_type": "execute_result",
          "data": {
            "text/plain": [
              "[<matplotlib.lines.Line2D at 0x78e9f21d5e70>]"
            ]
          },
          "metadata": {},
          "execution_count": 46
        },
        {
          "output_type": "display_data",
          "data": {
            "text/plain": [
              "<Figure size 640x480 with 1 Axes>"
            ],
            "image/png": "[encoded data removed]"
          },
          "metadata": {}
        }
      ]
    },
    {
      "cell_type": "code",
      "source": [
        "df_fut = data_set_scaled.tolist()\n",
        "df_fut.extend(list_output)\n",
        "plt.plot(df_fut)"
      ],
      "metadata": {
        "id": "NW5vuf5FoiV7",
        "colab": {
          "base_uri": "https://localhost:8080/",
          "height": 448
        },
        "outputId": "ca07d672-3574-4305-de6b-887daa9cc48d"
      },
      "execution_count": 61,
      "outputs": [
        {
          "output_type": "execute_result",
          "data": {
            "text/plain": [
              "[<matplotlib.lines.Line2D at 0x78e9d6a35300>]"
            ]
          },
          "metadata": {},
          "execution_count": 61
        },
        {
          "output_type": "display_data",
          "data": {
            "text/plain": [
              "<Figure size 640x480 with 1 Axes>"
            ],
            "image/png": "[encoded data removed]"
          },
          "metadata": {}
        }
      ]
    }
  ]
}